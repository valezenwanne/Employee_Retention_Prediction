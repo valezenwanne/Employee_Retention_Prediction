{
 "cells": [
  {
   "cell_type": "markdown",
   "id": "59019bf4",
   "metadata": {},
   "source": [
    "## Case Study: Logistic Regression\n",
    "\n",
    "#### Performing a logistic regression on employee_retention data (binary classification)"
   ]
  },
  {
   "cell_type": "code",
   "execution_count": 1,
   "id": "52b8665b",
   "metadata": {},
   "outputs": [],
   "source": [
    "# importing the necessary packages\n",
    "import pandas as pd\n",
    "import numpy as np\n",
    "import matplotlib.pyplot as plt\n",
    "import seaborn as sns\n",
    "%matplotlib inline\n",
    "pd.set_option('display.max_columns', 50)"
   ]
  },
  {
   "cell_type": "code",
   "execution_count": 2,
   "id": "fb8859a8",
   "metadata": {},
   "outputs": [],
   "source": [
    "# Loading the dataset\n",
    "df = pd.read_csv('HR_comma_sep.csv')"
   ]
  },
  {
   "cell_type": "code",
   "execution_count": 3,
   "id": "be4563b1",
   "metadata": {},
   "outputs": [
    {
     "data": {
      "text/html": [
       "<div>\n",
       "<style scoped>\n",
       "    .dataframe tbody tr th:only-of-type {\n",
       "        vertical-align: middle;\n",
       "    }\n",
       "\n",
       "    .dataframe tbody tr th {\n",
       "        vertical-align: top;\n",
       "    }\n",
       "\n",
       "    .dataframe thead th {\n",
       "        text-align: right;\n",
       "    }\n",
       "</style>\n",
       "<table border=\"1\" class=\"dataframe\">\n",
       "  <thead>\n",
       "    <tr style=\"text-align: right;\">\n",
       "      <th></th>\n",
       "      <th>satisfaction_level</th>\n",
       "      <th>last_evaluation</th>\n",
       "      <th>number_project</th>\n",
       "      <th>average_montly_hours</th>\n",
       "      <th>time_spend_company</th>\n",
       "      <th>Work_accident</th>\n",
       "      <th>left</th>\n",
       "      <th>promotion_last_5years</th>\n",
       "      <th>Department</th>\n",
       "      <th>salary</th>\n",
       "    </tr>\n",
       "  </thead>\n",
       "  <tbody>\n",
       "    <tr>\n",
       "      <th>0</th>\n",
       "      <td>0.38</td>\n",
       "      <td>0.53</td>\n",
       "      <td>2</td>\n",
       "      <td>157</td>\n",
       "      <td>3</td>\n",
       "      <td>0</td>\n",
       "      <td>1</td>\n",
       "      <td>0</td>\n",
       "      <td>sales</td>\n",
       "      <td>low</td>\n",
       "    </tr>\n",
       "    <tr>\n",
       "      <th>1</th>\n",
       "      <td>0.80</td>\n",
       "      <td>0.86</td>\n",
       "      <td>5</td>\n",
       "      <td>262</td>\n",
       "      <td>6</td>\n",
       "      <td>0</td>\n",
       "      <td>1</td>\n",
       "      <td>0</td>\n",
       "      <td>sales</td>\n",
       "      <td>medium</td>\n",
       "    </tr>\n",
       "    <tr>\n",
       "      <th>2</th>\n",
       "      <td>0.11</td>\n",
       "      <td>0.88</td>\n",
       "      <td>7</td>\n",
       "      <td>272</td>\n",
       "      <td>4</td>\n",
       "      <td>0</td>\n",
       "      <td>1</td>\n",
       "      <td>0</td>\n",
       "      <td>sales</td>\n",
       "      <td>medium</td>\n",
       "    </tr>\n",
       "    <tr>\n",
       "      <th>3</th>\n",
       "      <td>0.72</td>\n",
       "      <td>0.87</td>\n",
       "      <td>5</td>\n",
       "      <td>223</td>\n",
       "      <td>5</td>\n",
       "      <td>0</td>\n",
       "      <td>1</td>\n",
       "      <td>0</td>\n",
       "      <td>sales</td>\n",
       "      <td>low</td>\n",
       "    </tr>\n",
       "    <tr>\n",
       "      <th>4</th>\n",
       "      <td>0.37</td>\n",
       "      <td>0.52</td>\n",
       "      <td>2</td>\n",
       "      <td>159</td>\n",
       "      <td>3</td>\n",
       "      <td>0</td>\n",
       "      <td>1</td>\n",
       "      <td>0</td>\n",
       "      <td>sales</td>\n",
       "      <td>low</td>\n",
       "    </tr>\n",
       "  </tbody>\n",
       "</table>\n",
       "</div>"
      ],
      "text/plain": [
       "   satisfaction_level  last_evaluation  number_project  average_montly_hours  \\\n",
       "0                0.38             0.53               2                   157   \n",
       "1                0.80             0.86               5                   262   \n",
       "2                0.11             0.88               7                   272   \n",
       "3                0.72             0.87               5                   223   \n",
       "4                0.37             0.52               2                   159   \n",
       "\n",
       "   time_spend_company  Work_accident  left  promotion_last_5years Department  \\\n",
       "0                   3              0     1                      0      sales   \n",
       "1                   6              0     1                      0      sales   \n",
       "2                   4              0     1                      0      sales   \n",
       "3                   5              0     1                      0      sales   \n",
       "4                   3              0     1                      0      sales   \n",
       "\n",
       "   salary  \n",
       "0     low  \n",
       "1  medium  \n",
       "2  medium  \n",
       "3     low  \n",
       "4     low  "
      ]
     },
     "execution_count": 3,
     "metadata": {},
     "output_type": "execute_result"
    }
   ],
   "source": [
    "#displaying few rows of the dataset\n",
    "df.head()"
   ]
  },
  {
   "cell_type": "markdown",
   "id": "2be1de1b",
   "metadata": {},
   "source": [
    "### Data Wrangling"
   ]
  },
  {
   "cell_type": "code",
   "execution_count": 4,
   "id": "0e689177",
   "metadata": {},
   "outputs": [
    {
     "data": {
      "text/plain": [
       "(14999, 10)"
      ]
     },
     "execution_count": 4,
     "metadata": {},
     "output_type": "execute_result"
    }
   ],
   "source": [
    "# shape of the data\n",
    "df.shape"
   ]
  },
  {
   "cell_type": "markdown",
   "id": "86815b67",
   "metadata": {},
   "source": [
    "- There are 14,999 records of customers with 10 features"
   ]
  },
  {
   "cell_type": "code",
   "execution_count": 5,
   "id": "a5d5d921",
   "metadata": {},
   "outputs": [
    {
     "data": {
      "text/plain": [
       "satisfaction_level       float64\n",
       "last_evaluation          float64\n",
       "number_project             int64\n",
       "average_montly_hours       int64\n",
       "time_spend_company         int64\n",
       "Work_accident              int64\n",
       "left                       int64\n",
       "promotion_last_5years      int64\n",
       "Department                object\n",
       "salary                    object\n",
       "dtype: object"
      ]
     },
     "execution_count": 5,
     "metadata": {},
     "output_type": "execute_result"
    }
   ],
   "source": [
    "# datatypes of the data\n",
    "df.dtypes"
   ]
  },
  {
   "cell_type": "code",
   "execution_count": 6,
   "id": "2410865d",
   "metadata": {},
   "outputs": [
    {
     "data": {
      "text/plain": [
       "satisfaction_level       0\n",
       "last_evaluation          0\n",
       "number_project           0\n",
       "average_montly_hours     0\n",
       "time_spend_company       0\n",
       "Work_accident            0\n",
       "left                     0\n",
       "promotion_last_5years    0\n",
       "Department               0\n",
       "salary                   0\n",
       "dtype: int64"
      ]
     },
     "execution_count": 6,
     "metadata": {},
     "output_type": "execute_result"
    }
   ],
   "source": [
    "# checking for missing values\n",
    "df.isna().sum()"
   ]
  },
  {
   "cell_type": "code",
   "execution_count": 7,
   "id": "4e689905",
   "metadata": {},
   "outputs": [
    {
     "data": {
      "text/plain": [
       "3008"
      ]
     },
     "execution_count": 7,
     "metadata": {},
     "output_type": "execute_result"
    }
   ],
   "source": [
    "# checking for duplicates\n",
    "df.duplicated().sum()"
   ]
  },
  {
   "cell_type": "markdown",
   "id": "0b124e05",
   "metadata": {},
   "source": [
    "- There are 3008 duplicated record in the dataset which will be dropped"
   ]
  },
  {
   "cell_type": "code",
   "execution_count": 8,
   "id": "ac7033e8",
   "metadata": {},
   "outputs": [
    {
     "data": {
      "text/plain": [
       "10"
      ]
     },
     "execution_count": 8,
     "metadata": {},
     "output_type": "execute_result"
    }
   ],
   "source": [
    "# checking for number of unique values in the department\n",
    "df['Department'].nunique()"
   ]
  },
  {
   "cell_type": "code",
   "execution_count": 9,
   "id": "aec6f880",
   "metadata": {},
   "outputs": [
    {
     "data": {
      "text/plain": [
       "sales          4140\n",
       "technical      2720\n",
       "support        2229\n",
       "IT             1227\n",
       "product_mng     902\n",
       "marketing       858\n",
       "RandD           787\n",
       "accounting      767\n",
       "hr              739\n",
       "management      630\n",
       "Name: Department, dtype: int64"
      ]
     },
     "execution_count": 9,
     "metadata": {},
     "output_type": "execute_result"
    }
   ],
   "source": [
    "# the count of each department in the dataset\n",
    "df['Department'].value_counts()"
   ]
  },
  {
   "cell_type": "code",
   "execution_count": 10,
   "id": "00bc5fc6",
   "metadata": {},
   "outputs": [
    {
     "data": {
      "text/plain": [
       "array(['low', 'medium', 'high'], dtype=object)"
      ]
     },
     "execution_count": 10,
     "metadata": {},
     "output_type": "execute_result"
    }
   ],
   "source": [
    "# unique values in the salary\n",
    "df['salary'].unique()"
   ]
  },
  {
   "cell_type": "code",
   "execution_count": 11,
   "id": "4a0e7fab",
   "metadata": {},
   "outputs": [
    {
     "data": {
      "text/html": [
       "<div>\n",
       "<style scoped>\n",
       "    .dataframe tbody tr th:only-of-type {\n",
       "        vertical-align: middle;\n",
       "    }\n",
       "\n",
       "    .dataframe tbody tr th {\n",
       "        vertical-align: top;\n",
       "    }\n",
       "\n",
       "    .dataframe thead th {\n",
       "        text-align: right;\n",
       "    }\n",
       "</style>\n",
       "<table border=\"1\" class=\"dataframe\">\n",
       "  <thead>\n",
       "    <tr style=\"text-align: right;\">\n",
       "      <th></th>\n",
       "      <th>satisfaction_level</th>\n",
       "      <th>last_evaluation</th>\n",
       "      <th>number_project</th>\n",
       "      <th>average_montly_hours</th>\n",
       "      <th>time_spend_company</th>\n",
       "      <th>Work_accident</th>\n",
       "      <th>left</th>\n",
       "      <th>promotion_last_5years</th>\n",
       "    </tr>\n",
       "  </thead>\n",
       "  <tbody>\n",
       "    <tr>\n",
       "      <th>count</th>\n",
       "      <td>14999.000000</td>\n",
       "      <td>14999.000000</td>\n",
       "      <td>14999.000000</td>\n",
       "      <td>14999.000000</td>\n",
       "      <td>14999.000000</td>\n",
       "      <td>14999.000000</td>\n",
       "      <td>14999.000000</td>\n",
       "      <td>14999.000000</td>\n",
       "    </tr>\n",
       "    <tr>\n",
       "      <th>mean</th>\n",
       "      <td>0.612834</td>\n",
       "      <td>0.716102</td>\n",
       "      <td>3.803054</td>\n",
       "      <td>201.050337</td>\n",
       "      <td>3.498233</td>\n",
       "      <td>0.144610</td>\n",
       "      <td>0.238083</td>\n",
       "      <td>0.021268</td>\n",
       "    </tr>\n",
       "    <tr>\n",
       "      <th>std</th>\n",
       "      <td>0.248631</td>\n",
       "      <td>0.171169</td>\n",
       "      <td>1.232592</td>\n",
       "      <td>49.943099</td>\n",
       "      <td>1.460136</td>\n",
       "      <td>0.351719</td>\n",
       "      <td>0.425924</td>\n",
       "      <td>0.144281</td>\n",
       "    </tr>\n",
       "    <tr>\n",
       "      <th>min</th>\n",
       "      <td>0.090000</td>\n",
       "      <td>0.360000</td>\n",
       "      <td>2.000000</td>\n",
       "      <td>96.000000</td>\n",
       "      <td>2.000000</td>\n",
       "      <td>0.000000</td>\n",
       "      <td>0.000000</td>\n",
       "      <td>0.000000</td>\n",
       "    </tr>\n",
       "    <tr>\n",
       "      <th>25%</th>\n",
       "      <td>0.440000</td>\n",
       "      <td>0.560000</td>\n",
       "      <td>3.000000</td>\n",
       "      <td>156.000000</td>\n",
       "      <td>3.000000</td>\n",
       "      <td>0.000000</td>\n",
       "      <td>0.000000</td>\n",
       "      <td>0.000000</td>\n",
       "    </tr>\n",
       "    <tr>\n",
       "      <th>50%</th>\n",
       "      <td>0.640000</td>\n",
       "      <td>0.720000</td>\n",
       "      <td>4.000000</td>\n",
       "      <td>200.000000</td>\n",
       "      <td>3.000000</td>\n",
       "      <td>0.000000</td>\n",
       "      <td>0.000000</td>\n",
       "      <td>0.000000</td>\n",
       "    </tr>\n",
       "    <tr>\n",
       "      <th>75%</th>\n",
       "      <td>0.820000</td>\n",
       "      <td>0.870000</td>\n",
       "      <td>5.000000</td>\n",
       "      <td>245.000000</td>\n",
       "      <td>4.000000</td>\n",
       "      <td>0.000000</td>\n",
       "      <td>0.000000</td>\n",
       "      <td>0.000000</td>\n",
       "    </tr>\n",
       "    <tr>\n",
       "      <th>max</th>\n",
       "      <td>1.000000</td>\n",
       "      <td>1.000000</td>\n",
       "      <td>7.000000</td>\n",
       "      <td>310.000000</td>\n",
       "      <td>10.000000</td>\n",
       "      <td>1.000000</td>\n",
       "      <td>1.000000</td>\n",
       "      <td>1.000000</td>\n",
       "    </tr>\n",
       "  </tbody>\n",
       "</table>\n",
       "</div>"
      ],
      "text/plain": [
       "       satisfaction_level  last_evaluation  number_project  \\\n",
       "count        14999.000000     14999.000000    14999.000000   \n",
       "mean             0.612834         0.716102        3.803054   \n",
       "std              0.248631         0.171169        1.232592   \n",
       "min              0.090000         0.360000        2.000000   \n",
       "25%              0.440000         0.560000        3.000000   \n",
       "50%              0.640000         0.720000        4.000000   \n",
       "75%              0.820000         0.870000        5.000000   \n",
       "max              1.000000         1.000000        7.000000   \n",
       "\n",
       "       average_montly_hours  time_spend_company  Work_accident          left  \\\n",
       "count          14999.000000        14999.000000   14999.000000  14999.000000   \n",
       "mean             201.050337            3.498233       0.144610      0.238083   \n",
       "std               49.943099            1.460136       0.351719      0.425924   \n",
       "min               96.000000            2.000000       0.000000      0.000000   \n",
       "25%              156.000000            3.000000       0.000000      0.000000   \n",
       "50%              200.000000            3.000000       0.000000      0.000000   \n",
       "75%              245.000000            4.000000       0.000000      0.000000   \n",
       "max              310.000000           10.000000       1.000000      1.000000   \n",
       "\n",
       "       promotion_last_5years  \n",
       "count           14999.000000  \n",
       "mean                0.021268  \n",
       "std                 0.144281  \n",
       "min                 0.000000  \n",
       "25%                 0.000000  \n",
       "50%                 0.000000  \n",
       "75%                 0.000000  \n",
       "max                 1.000000  "
      ]
     },
     "execution_count": 11,
     "metadata": {},
     "output_type": "execute_result"
    }
   ],
   "source": [
    "#checking the descriptive statistics of the numerical features\n",
    "df.describe()"
   ]
  },
  {
   "cell_type": "markdown",
   "id": "43e13f48",
   "metadata": {},
   "source": [
    "### Data Cleaning\n",
    "\n",
    "- Rename column names\n",
    "- Drop duplicated records"
   ]
  },
  {
   "cell_type": "code",
   "execution_count": 12,
   "id": "8c5e914c",
   "metadata": {},
   "outputs": [],
   "source": [
    "# renaming columns\n",
    "df.rename(columns = {'Work_accident': 'work_accident', 'left': 'retention', 'Department': 'department'}, inplace=True)"
   ]
  },
  {
   "cell_type": "code",
   "execution_count": 14,
   "id": "7805024e",
   "metadata": {},
   "outputs": [
    {
     "data": {
      "text/html": [
       "<div>\n",
       "<style scoped>\n",
       "    .dataframe tbody tr th:only-of-type {\n",
       "        vertical-align: middle;\n",
       "    }\n",
       "\n",
       "    .dataframe tbody tr th {\n",
       "        vertical-align: top;\n",
       "    }\n",
       "\n",
       "    .dataframe thead th {\n",
       "        text-align: right;\n",
       "    }\n",
       "</style>\n",
       "<table border=\"1\" class=\"dataframe\">\n",
       "  <thead>\n",
       "    <tr style=\"text-align: right;\">\n",
       "      <th></th>\n",
       "      <th>satisfaction_level</th>\n",
       "      <th>last_evaluation</th>\n",
       "      <th>number_project</th>\n",
       "      <th>average_montly_hours</th>\n",
       "      <th>time_spend_company</th>\n",
       "      <th>work_accident</th>\n",
       "      <th>retention</th>\n",
       "      <th>promotion_last_5years</th>\n",
       "      <th>department</th>\n",
       "      <th>salary</th>\n",
       "    </tr>\n",
       "  </thead>\n",
       "  <tbody>\n",
       "    <tr>\n",
       "      <th>0</th>\n",
       "      <td>0.38</td>\n",
       "      <td>0.53</td>\n",
       "      <td>2</td>\n",
       "      <td>157</td>\n",
       "      <td>3</td>\n",
       "      <td>0</td>\n",
       "      <td>1</td>\n",
       "      <td>0</td>\n",
       "      <td>sales</td>\n",
       "      <td>low</td>\n",
       "    </tr>\n",
       "    <tr>\n",
       "      <th>1</th>\n",
       "      <td>0.80</td>\n",
       "      <td>0.86</td>\n",
       "      <td>5</td>\n",
       "      <td>262</td>\n",
       "      <td>6</td>\n",
       "      <td>0</td>\n",
       "      <td>1</td>\n",
       "      <td>0</td>\n",
       "      <td>sales</td>\n",
       "      <td>medium</td>\n",
       "    </tr>\n",
       "  </tbody>\n",
       "</table>\n",
       "</div>"
      ],
      "text/plain": [
       "   satisfaction_level  last_evaluation  number_project  average_montly_hours  \\\n",
       "0                0.38             0.53               2                   157   \n",
       "1                0.80             0.86               5                   262   \n",
       "\n",
       "   time_spend_company  work_accident  retention  promotion_last_5years  \\\n",
       "0                   3              0          1                      0   \n",
       "1                   6              0          1                      0   \n",
       "\n",
       "  department  salary  \n",
       "0      sales     low  \n",
       "1      sales  medium  "
      ]
     },
     "execution_count": 14,
     "metadata": {},
     "output_type": "execute_result"
    }
   ],
   "source": [
    "# confirming columns has been renamed\n",
    "df.head(2)"
   ]
  },
  {
   "cell_type": "code",
   "execution_count": 28,
   "id": "aad11db8",
   "metadata": {},
   "outputs": [],
   "source": [
    "# dropping duplicates\n",
    "df.drop_duplicates(inplace=True)"
   ]
  },
  {
   "cell_type": "code",
   "execution_count": 29,
   "id": "21a6b30d",
   "metadata": {},
   "outputs": [
    {
     "data": {
      "text/plain": [
       "0"
      ]
     },
     "execution_count": 29,
     "metadata": {},
     "output_type": "execute_result"
    }
   ],
   "source": [
    "#confirming duplicates has been dropped\n",
    "df.duplicated().sum()"
   ]
  },
  {
   "cell_type": "markdown",
   "id": "d8cf170b",
   "metadata": {},
   "source": [
    "## Data Exploration\n",
    "\n",
    "### Univariate Exploration"
   ]
  },
  {
   "cell_type": "code",
   "execution_count": 30,
   "id": "ad51e48e",
   "metadata": {},
   "outputs": [
    {
     "data": {
      "image/png": "[encoded data removed]",
      "text/plain": [
       "<Figure size 864x360 with 2 Axes>"
      ]
     },
     "metadata": {
      "needs_background": "light"
     },
     "output_type": "display_data"
    }
   ],
   "source": [
    "# plotting the distribution of satisfaction_level and last_evaluation\n",
    "fig, ax = plt.subplots(1, 2, figsize=[12,5], sharey=True)\n",
    "\n",
    "#defining the bins for the histogram\n",
    "bins = np.arange(0, df['satisfaction_level'].max()+0.02, 0.02)\n",
    "bin_edge = np.arange(0, df['last_evaluation'].max()+0.02, 0.02)\n",
    "\n",
    "#plotting the histogram\n",
    "ax[0].hist(df['satisfaction_level'], bins=bins)\n",
    "ax[1].hist(df['last_evaluation'], bins = bin_edge)\n",
    "\n",
    "\n",
    "#setting the titles\n",
    "ax[0].set_title('Distribution of satisfaction level')\n",
    "ax[0].set_ylabel('Number of employees')\n",
    "ax[0].set_xlabel('level points')\n",
    "ax[1].set_title('Distribution of evalution level')\n",
    "ax[1].set_xlabel('level points')\n",
    "\n",
    "#removing the borders\n",
    "ax[0].spines[['top', 'right']].set_visible(False)\n",
    "ax[1].spines[['top', 'right']].set_visible(False)\n",
    "plt.show()\n"
   ]
  },
  {
   "cell_type": "code",
   "execution_count": 18,
   "id": "f3a6074d",
   "metadata": {},
   "outputs": [
    {
     "data": {
      "image/png": "[encoded data removed]",
      "text/plain": [
       "<Figure size 648x432 with 2 Axes>"
      ]
     },
     "metadata": {
      "needs_background": "light"
     },
     "output_type": "display_data"
    }
   ],
   "source": [
    "# plotting the distribution of satisfaction_level\n",
    "\n",
    "# defining the the figure\n",
    "fig, ax = plt.subplots(1, 2, figsize=[9,6], sharey=True)\n",
    "\n",
    "#defining the x and y values and order for satisfaction_level\n",
    "x = df['number_project'].value_counts().index\n",
    "y = df['number_project'].value_counts().values\n",
    "order = df['number_project'].value_counts().index\n",
    "\n",
    "#defining the x and y values and order for time_spend_company\n",
    "x1 = df['time_spend_company'].value_counts().index\n",
    "y1 = df['time_spend_company'].value_counts().values\n",
    "order1 = df['time_spend_company'].value_counts().index\n",
    "\n",
    "#setting the basecolor\n",
    "base_color = sns.color_palette()[0]\n",
    "\n",
    "#plotting the bar chart\n",
    "sns.barplot(x=x, y=y, order=order, color=base_color, ax=ax[0])\n",
    "sns.barplot(x=x1, y=y1, order=order1, color=base_color, ax=ax[1])\n",
    "\n",
    "# annotating the bar chart\n",
    "for index, value in enumerate(df['number_project'].value_counts().values):\n",
    "    ax[0].annotate(value, xy=(index, value+90), ha='center', va='center')\n",
    "\n",
    "for index, value in enumerate(df['time_spend_company'].value_counts().values):\n",
    "    ax[1].annotate(value, xy=(index, value+90), ha='center', va='center')\n",
    "\n",
    "    \n",
    "#setting the labels and title, removing border and yticks    \n",
    "ax[0].set_xlabel('Number of projects', fontsize=12)\n",
    "ax[0].set_ylabel('Number of employees', fontsize=12)\n",
    "ax[0].set_title('Distribution of number of employees \\n by no of completed projects', fontsize=13)\n",
    "ax[0].spines[['right', 'left', 'top']].set_visible(False)\n",
    "ax[0].yaxis.set_ticks([])\n",
    "\n",
    "ax[1].set_xlabel('time_spend_in_company (hours)', fontsize=12)\n",
    "#ax[1].set_ylabel('Number of employees', fontsize=12)\n",
    "ax[1].set_title('Distribution of employee based \\n on time spend in company', fontsize=13)\n",
    "ax[1].spines[['right', 'left', 'top']].set_visible(False)\n",
    "ax[1].yaxis.set_ticks([])\n",
    "\n",
    "plt.tight_layout()\n",
    "fig.tight_layout()\n",
    "plt.show()\n"
   ]
  },
  {
   "cell_type": "code",
   "execution_count": 19,
   "id": "efd8e149",
   "metadata": {},
   "outputs": [
    {
     "data": {
      "image/png": "[encoded data removed]",
      "text/plain": [
       "<Figure size 432x360 with 1 Axes>"
      ]
     },
     "metadata": {
      "needs_background": "light"
     },
     "output_type": "display_data"
    }
   ],
   "source": [
    "#plotting distribution of average montly hours\n",
    "fig, ax=plt.subplots(figsize=[6,5])\n",
    "\n",
    "\n",
    "bins = np.arange(0, df['average_montly_hours'].max()+5, 5)\n",
    "ax.hist(df['average_montly_hours'], bins=bins)\n",
    "\n",
    "\n",
    "\n",
    "ax.set_title('Distribution of average_montly_hours of employee')\n",
    "ax.set_ylabel('Number of employees')\n",
    "ax.set_xlabel('average_montly_hours')\n",
    "ax.spines[['top', 'right']].set_visible(False)\n",
    "\n",
    "plt.show()"
   ]
  },
  {
   "cell_type": "code",
   "execution_count": 20,
   "id": "f1015645",
   "metadata": {},
   "outputs": [
    {
     "data": {
      "image/png": "[encoded data removed]",
      "text/plain": [
       "<Figure size 648x360 with 3 Axes>"
      ]
     },
     "metadata": {
      "needs_background": "light"
     },
     "output_type": "display_data"
    }
   ],
   "source": [
    "# plotting the distribution of work_acident, retention and promotion_last_5years\n",
    "\n",
    "fig, ax = plt.subplots(1, 3, figsize=(9,5))\n",
    "\n",
    "\n",
    "#creating the percentage\n",
    "m = df['work_accident'].value_counts().values\n",
    "n = df['retention'].value_counts().values\n",
    "o = df['promotion_last_5years'].value_counts().values\n",
    "perc = []\n",
    "perc1 = []\n",
    "perc2 = []\n",
    "\n",
    "for i in m:\n",
    "    per = (i/ sum(m)) * 100\n",
    "    perc.append(per.round())\n",
    "for i in n:\n",
    "    per = (i/ sum(n)) * 100\n",
    "    perc1.append(per.round())\n",
    "for i in o:\n",
    "    per = (i/ sum(o)) * 100\n",
    "    perc2.append(per.round())\n",
    "\n",
    "df3 = pd.DataFrame({'work_accident': perc, \n",
    "                    'retention': perc1,\n",
    "                   'promotion_last_5years': perc2})\n",
    "\n",
    "\n",
    "base_color = sns.color_palette()[0]\n",
    "sns.barplot(x=df3.index.values, y=df3['work_accident'].value_counts().index, color=base_color, ax=ax[0])\n",
    "sns.barplot(x=df3.index.values, y=df3['retention'].value_counts().index, color=base_color, ax=ax[1])\n",
    "sns.barplot(x=df3.index.values, y=df3['promotion_last_5years'].value_counts().index, color=base_color, ax=ax[2])\n",
    "\n",
    "#removing borders and yticks\n",
    "ax[0].spines[['top', 'right','left']].set_visible(False)\n",
    "ax[1].spines[['top', 'right', 'left']].set_visible(False)\n",
    "ax[2].spines[['top', 'right', 'left']].set_visible(False)\n",
    "\n",
    "ax[0].yaxis.set_ticks([])\n",
    "ax[1].yaxis.set_ticks([])\n",
    "ax[2].yaxis.set_ticks([])\n",
    "\n",
    "#setting the x_label and title\n",
    "ax[0].set_title('Distribution of work \\n accident')\n",
    "ax[1].set_title('Distribution of \\n retention')\n",
    "ax[2].set_title('Distribution of promotion \\n in last 5_years')\n",
    "\n",
    "\n",
    "for index, value in enumerate(df3['work_accident'].value_counts().index):\n",
    "        ax[0].annotate(str(value)+'%', xy=(index, value+3), ha='center', va='center')\n",
    "        \n",
    "for index, value in enumerate(df3['retention'].value_counts().index):\n",
    "        ax[1].annotate(str(value)+'%', xy=(index, value+3), ha='center', va='center')\n",
    "        \n",
    "for index, value in enumerate(df3['promotion_last_5years'].value_counts().index):\n",
    "        ax[2].annotate(str(value)+'%', xy=(index, value+3), ha='center', va='center')\n",
    "\n",
    "fig.legend(['0 (No)', '1 (Yes)'], bbox_to_anchor=(1, 0.5))\n",
    "plt.tight_layout(pad=3)\n",
    "plt.show()\n"
   ]
  },
  {
   "cell_type": "code",
   "execution_count": 21,
   "id": "3e91993d",
   "metadata": {},
   "outputs": [
    {
     "data": {
      "image/png": "[encoded data removed]",
      "text/plain": [
       "<Figure size 1008x360 with 2 Axes>"
      ]
     },
     "metadata": {
      "needs_background": "light"
     },
     "output_type": "display_data"
    }
   ],
   "source": [
    "#plotting a distribution of the department and salary level\n",
    "\n",
    "fig, ax = plt.subplots(1,2, figsize=(14,5))\n",
    "\n",
    "order = df['department'].value_counts().index\n",
    "\n",
    "#plotting the charts\n",
    "ax[0].pie( x=df['salary'].value_counts().sort_values(ascending=True).values, \n",
    "          labels=df['salary'].value_counts().sort_values(ascending=True).index, \n",
    "          autopct='%.0f%%', \n",
    "          startangle=90\n",
    "         )\n",
    "sns.countplot(data = df, x='department', order=order, color=base_color, ax=ax[1])\n",
    "\n",
    "#annotating the bar chart\n",
    "for index, value in enumerate(df['department'].value_counts().values):\n",
    "    ax[1].annotate(value, xy=(index, value+90), ha='center', va='center')\n",
    "\n",
    "#removing border\n",
    "ax[1].spines[['top', 'right', 'left']].set_visible(False)\n",
    "ax[1].yaxis.set_ticks([])\n",
    "ax[1].set_title('Number of employees in each departments')\n",
    "ax[1].set_ylabel('Number of employees')\n",
    "ax[1].set_xlabel('Departments')\n",
    "ax[0].set_title('Distribution of employees based on their Salary level')\n",
    "\n",
    "plt.xticks(rotation=45)\n",
    "plt.show()"
   ]
  },
  {
   "cell_type": "markdown",
   "id": "339875b2",
   "metadata": {},
   "source": [
    "#### Distribution of employee on salary level\n",
    "- 48% of the employees are low salary earner \n",
    "- 44% of the employee are medium salary earner.\n",
    "- Only 8% of the employee are top earner\n",
    "\n",
    "#### Distribution of employee in each department\n",
    "- The top three department with large number of employees are sales(3239), technical(2244) and support(1821)\n"
   ]
  },
  {
   "cell_type": "markdown",
   "id": "7df24c29",
   "metadata": {},
   "source": [
    "### Bivariate Exploration"
   ]
  },
  {
   "cell_type": "markdown",
   "id": "5a720fe2",
   "metadata": {},
   "source": [
    "#### Distribution of retention vs department"
   ]
  },
  {
   "cell_type": "code",
   "execution_count": 51,
   "id": "96817784",
   "metadata": {},
   "outputs": [
    {
     "data": {
      "image/png": "[encoded data removed]",
      "text/plain": [
       "<Figure size 576x360 with 1 Axes>"
      ]
     },
     "metadata": {
      "needs_background": "light"
     },
     "output_type": "display_data"
    }
   ],
   "source": [
    "# plotting a Distribution of retention vs department\n",
    "fig, ax = plt.subplots(1, 1, figsize=[8,5])\n",
    "\n",
    "sns.countplot(data=df, x='department', hue='retention')\n",
    "ax.xaxis.set_tick_params(rotation=45)\n",
    "ax.set_title('Distribution of retention vs department')\n",
    "ax.set_ylabel('Number of employees')\n",
    "ax.spines[['top', 'right']].set_visible(False)\n",
    "plt.show()"
   ]
  },
  {
   "cell_type": "code",
   "execution_count": 54,
   "id": "fd4328cc",
   "metadata": {},
   "outputs": [
    {
     "data": {
      "image/png": "[encoded data removed]",
      "text/plain": [
       "<Figure size 576x360 with 1 Axes>"
      ]
     },
     "metadata": {
      "needs_background": "light"
     },
     "output_type": "display_data"
    }
   ],
   "source": [
    "#plotting a distribution of salary against retention\n",
    "fig, ax = plt.subplots(1, 1, figsize=[8,5])\n",
    "\n",
    "sns.countplot(data=df, x='salary', hue='retention')\n",
    "ax.set_title('Distribution of Salary vs retention')\n",
    "ax.set_ylabel('Number of employees')\n",
    "ax.spines[['top', 'right']].set_visible(False)\n",
    "\n",
    "plt.show()"
   ]
  },
  {
   "cell_type": "markdown",
   "id": "0dd8c5cc",
   "metadata": {},
   "source": [
    "- Low income and medium income earner are churned more"
   ]
  },
  {
   "cell_type": "code",
   "execution_count": 83,
   "id": "2aa4fd09",
   "metadata": {},
   "outputs": [
    {
     "data": {
      "image/png": "[encoded data removed]",
      "text/plain": [
       "<Figure size 576x432 with 3 Axes>"
      ]
     },
     "metadata": {
      "needs_background": "light"
     },
     "output_type": "display_data"
    }
   ],
   "source": [
    "#filtering by salary category\n",
    "low_income = df.query('salary == \"low\"').groupby(['retention'], as_index=False).agg(total=('retention', 'count'))\n",
    "medium_income = df.query('salary == \"medium\"').groupby(['retention'], as_index=False).agg(total=('retention', 'count'))\n",
    "high_income = df.query('salary == \"high\"').groupby(['retention'], as_index=False).agg(total=('retention', 'count'))\n",
    "\n",
    "#create a table by grouping based on the retention and counting each categories\n",
    "low_perc= []\n",
    "for x in low_income['total'].values:\n",
    "    perc = ((x/(low_income['total'].sum()))*100).round()\n",
    "    low_perc.append(perc)\n",
    "low_income['percent'] = low_perc\n",
    "\n",
    "medium_perc= []\n",
    "for x in medium_income['total'].values:\n",
    "    perc = ((x/(medium_income['total'].sum()))*100).round()\n",
    "    medium_perc.append(perc)\n",
    "medium_income['percent'] = medium_perc\n",
    "\n",
    "high_perc= []\n",
    "for x in high_income['total'].values:\n",
    "    perc = ((x/(high_income['total'].sum()))*100).round()\n",
    "    high_perc.append(perc)\n",
    "high_income['percent'] = high_perc\n",
    "\n",
    "#plotting a barplot of churn rate of each salary income categories\n",
    "fig, ax = plt.subplots(1, 3, figsize=[8,6])\n",
    "sns.barplot(data=low_income, x='retention', y='percent', ax=ax[0])\n",
    "sns.barplot(data=medium_income, x='retention', y='percent', ax=ax[1])\n",
    "sns.barplot(data=high_income, x='retention', y='percent', ax=ax[2])\n",
    "\n",
    "#Removing the border\n",
    "ax[0].spines[['top', 'right', 'left']].set_visible(False)\n",
    "ax[1].spines[['top', 'right', 'left']].set_visible(False)\n",
    "ax[2].spines[['top', 'right', 'left']].set_visible(False)\n",
    "\n",
    "#Setting the title\n",
    "ax[0].set_title('Churn rate of \\n low salary earners')\n",
    "ax[1].set_title('Churn rate of \\n medium salary earners')\n",
    "ax[2].set_title('Churn rate of \\n high salary earners')\n",
    "\n",
    "\n",
    "fig.legend(['0 (Churn)', '1 (Retain)'], bbox_to_anchor=(1, 0.5))\n",
    "for index, value in enumerate(low_income['percent'].values):\n",
    "    ax[0].annotate(str(value)+'%', xy=(index, value+1.5), va='center', ha='center')\n",
    "for index, value in enumerate(medium_income['percent'].values):\n",
    "    ax[1].annotate(str(value)+'%', xy=(index, value+1.5), va='center', ha='center')\n",
    "for index, value in enumerate(high_income['percent'].values):\n",
    "    ax[2].annotate(str(value)+'%', xy=(index, value+1.5), va='center', ha='center')\n",
    "    \n",
    "ax[0].yaxis.set_visible(False)\n",
    "ax[1].yaxis.set_visible(False)\n",
    "ax[2].yaxis.set_visible(False)\n",
    "plt.show()"
   ]
  },
  {
   "cell_type": "code",
   "execution_count": 101,
   "id": "c7eaa095",
   "metadata": {},
   "outputs": [
    {
     "data": {
      "image/png": "[encoded data removed]",
      "text/plain": [
       "<Figure size 576x360 with 2 Axes>"
      ]
     },
     "metadata": {
      "needs_background": "light"
     },
     "output_type": "display_data"
    }
   ],
   "source": [
    "#plotting a heatmap of the features\n",
    "vars=['promotion_last_5years', 'number_project', 'average_montly_hours', \n",
    "      'time_spend_company', 'last_evaluation', 'satisfaction_level', 'work_accident', 'retention']\n",
    "fig, ax = plt.subplots(figsize=[8,5])\n",
    "sns.heatmap(df[vars].corr(), cmap='rocket_r', annot=True, fmt='.1f')\n",
    "plt.show()"
   ]
  },
  {
   "cell_type": "markdown",
   "id": "b26d17fb",
   "metadata": {},
   "source": [
    "### Logistic Regression\n",
    "\n",
    "#### Selecting the variables"
   ]
  },
  {
   "cell_type": "code",
   "execution_count": 45,
   "id": "c4e6f2e2",
   "metadata": {},
   "outputs": [],
   "source": [
    "#defining the X variable\n",
    "X = df[['satisfaction_level', 'average_montly_hours', 'time_spend_company', 'salary']]"
   ]
  },
  {
   "cell_type": "code",
   "execution_count": 46,
   "id": "84afe09d",
   "metadata": {},
   "outputs": [],
   "source": [
    "# Selecting the y variable\n",
    "y = df['retention'].values"
   ]
  },
  {
   "cell_type": "code",
   "execution_count": 37,
   "id": "4c404769",
   "metadata": {},
   "outputs": [
    {
     "data": {
      "text/plain": [
       "['satisfaction_level', 'average_montly_hours', 'time_spend_company']"
      ]
     },
     "execution_count": 37,
     "metadata": {},
     "output_type": "execute_result"
    }
   ],
   "source": [
    "# Data Preprocessing\n",
    "\n",
    "#defining the numerical X variables\n",
    "numerical_features = ['satisfaction_level', 'average_montly_hours', 'time_spend_company']\n",
    "numerical_features"
   ]
  },
  {
   "cell_type": "code",
   "execution_count": 38,
   "id": "0fee394c",
   "metadata": {},
   "outputs": [
    {
     "data": {
      "text/plain": [
       "['salary']"
      ]
     },
     "execution_count": 38,
     "metadata": {},
     "output_type": "execute_result"
    }
   ],
   "source": [
    "#defining the categorical X variables\n",
    "categorical_features = ['salary']\n",
    "categorical_features"
   ]
  },
  {
   "cell_type": "code",
   "execution_count": 36,
   "id": "5bb897d9",
   "metadata": {},
   "outputs": [],
   "source": [
    "#importing the modules\n",
    "from sklearn.pipeline import Pipeline\n",
    "from sklearn.preprocessing import StandardScaler, OneHotEncoder\n",
    "from sklearn.compose import ColumnTransformer"
   ]
  },
  {
   "cell_type": "code",
   "execution_count": 39,
   "id": "ee117729",
   "metadata": {},
   "outputs": [],
   "source": [
    "#defining a numerical transformer\n",
    "numerical_transformer = Pipeline([\n",
    "    ('scale', StandardScaler())\n",
    "])"
   ]
  },
  {
   "cell_type": "code",
   "execution_count": 40,
   "id": "4012bdc2",
   "metadata": {},
   "outputs": [],
   "source": [
    "#defining the categorical transformer\n",
    "categorical_transformer = Pipeline([\n",
    "    ('ohe_salary', OneHotEncoder())\n",
    "])"
   ]
  },
  {
   "cell_type": "code",
   "execution_count": 41,
   "id": "3431251f",
   "metadata": {},
   "outputs": [],
   "source": [
    "#defining the preprocessor\n",
    "preprocessor = ColumnTransformer([\n",
    "    ('num', numerical_transformer, numerical_features),\n",
    "    ('cat', categorical_transformer, categorical_features)\n",
    "])"
   ]
  },
  {
   "cell_type": "code",
   "execution_count": 42,
   "id": "5061eece",
   "metadata": {},
   "outputs": [],
   "source": [
    "#importing the LogisticRegression module\n",
    "from sklearn.linear_model import LogisticRegression"
   ]
  },
  {
   "cell_type": "code",
   "execution_count": 60,
   "id": "d284dbed",
   "metadata": {},
   "outputs": [],
   "source": [
    "#defining my pipeline\n",
    "my_pipeline = Pipeline([\n",
    "    ('preprocessor', preprocessor),\n",
    "    ('classifier', LogisticRegression())\n",
    "])"
   ]
  },
  {
   "cell_type": "code",
   "execution_count": 44,
   "id": "fdf2b3a1",
   "metadata": {},
   "outputs": [],
   "source": [
    "#import the module for splitting dataset\n",
    "from sklearn.model_selection import train_test_split"
   ]
  },
  {
   "cell_type": "code",
   "execution_count": 47,
   "id": "f4b46ed1",
   "metadata": {},
   "outputs": [],
   "source": [
    "#split the dataset for training\n",
    "X_train, X_test, y_train, y_test = train_test_split(X, y, test_size=0.2)"
   ]
  },
  {
   "cell_type": "code",
   "execution_count": 61,
   "id": "fe0ca68d",
   "metadata": {},
   "outputs": [
    {
     "data": {
      "text/plain": [
       "Pipeline(steps=[('preprocessor',\n",
       "                 ColumnTransformer(transformers=[('num',\n",
       "                                                  Pipeline(steps=[('scale',\n",
       "                                                                   StandardScaler())]),\n",
       "                                                  ['satisfaction_level',\n",
       "                                                   'average_montly_hours',\n",
       "                                                   'time_spend_company']),\n",
       "                                                 ('cat',\n",
       "                                                  Pipeline(steps=[('ohe_salary',\n",
       "                                                                   OneHotEncoder())]),\n",
       "                                                  ['salary'])])),\n",
       "                ('classifier', LogisticRegression())])"
      ]
     },
     "execution_count": 61,
     "metadata": {},
     "output_type": "execute_result"
    }
   ],
   "source": [
    "#fit our training dataset to the pipeline\n",
    "my_pipeline.fit(X_train, y_train)"
   ]
  },
  {
   "cell_type": "code",
   "execution_count": 62,
   "id": "fbf85fd2",
   "metadata": {},
   "outputs": [
    {
     "data": {
      "text/plain": [
       "0.8449353897457273"
      ]
     },
     "execution_count": 62,
     "metadata": {},
     "output_type": "execute_result"
    }
   ],
   "source": [
    "#checking the accuracy score\n",
    "my_pipeline.score(X_test, y_test)"
   ]
  },
  {
   "cell_type": "code",
   "execution_count": 64,
   "id": "2660ed20",
   "metadata": {},
   "outputs": [],
   "source": [
    "#displaying a diagram of my_pipeline\n",
    "\n",
    "from sklearn import set_config\n",
    "set_config(display='diagram')"
   ]
  },
  {
   "cell_type": "code",
   "execution_count": 65,
   "id": "14be13fc",
   "metadata": {
    "scrolled": true
   },
   "outputs": [
    {
     "data": {
      "text/html": [
       "<style>#sk-e463150c-78f0-46e1-98df-1e39e5d07239 {color: black;background-color: white;}#sk-e463150c-78f0-46e1-98df-1e39e5d07239 pre{padding: 0;}#sk-e463150c-78f0-46e1-98df-1e39e5d07239 div.sk-toggleable {background-color: white;}#sk-e463150c-78f0-46e1-98df-1e39e5d07239 label.sk-toggleable__label {cursor: pointer;display: block;width: 100%;margin-bottom: 0;padding: 0.3em;box-sizing: border-box;text-align: center;}#sk-e463150c-78f0-46e1-98df-1e39e5d07239 label.sk-toggleable__label-arrow:before {content: \"▸\";float: left;margin-right: 0.25em;color: #696969;}#sk-e463150c-78f0-46e1-98df-1e39e5d07239 label.sk-toggleable__label-arrow:hover:before {color: black;}#sk-e463150c-78f0-46e1-98df-1e39e5d07239 div.sk-estimator:hover label.sk-toggleable__label-arrow:before {color: black;}#sk-e463150c-78f0-46e1-98df-1e39e5d07239 div.sk-toggleable__content {max-height: 0;max-width: 0;overflow: hidden;text-align: left;background-color: #f0f8ff;}#sk-e463150c-78f0-46e1-98df-1e39e5d07239 div.sk-toggleable__content pre {margin: 0.2em;color: black;border-radius: 0.25em;background-color: #f0f8ff;}#sk-e463150c-78f0-46e1-98df-1e39e5d07239 input.sk-toggleable__control:checked~div.sk-toggleable__content {max-height: 200px;max-width: 100%;overflow: auto;}#sk-e463150c-78f0-46e1-98df-1e39e5d07239 input.sk-toggleable__control:checked~label.sk-toggleable__label-arrow:before {content: \"▾\";}#sk-e463150c-78f0-46e1-98df-1e39e5d07239 div.sk-estimator input.sk-toggleable__control:checked~label.sk-toggleable__label {background-color: #d4ebff;}#sk-e463150c-78f0-46e1-98df-1e39e5d07239 div.sk-label input.sk-toggleable__control:checked~label.sk-toggleable__label {background-color: #d4ebff;}#sk-e463150c-78f0-46e1-98df-1e39e5d07239 input.sk-hidden--visually {border: 0;clip: rect(1px 1px 1px 1px);clip: rect(1px, 1px, 1px, 1px);height: 1px;margin: -1px;overflow: hidden;padding: 0;position: absolute;width: 1px;}#sk-e463150c-78f0-46e1-98df-1e39e5d07239 div.sk-estimator {font-family: monospace;background-color: #f0f8ff;border: 1px dotted black;border-radius: 0.25em;box-sizing: border-box;margin-bottom: 0.5em;}#sk-e463150c-78f0-46e1-98df-1e39e5d07239 div.sk-estimator:hover {background-color: #d4ebff;}#sk-e463150c-78f0-46e1-98df-1e39e5d07239 div.sk-parallel-item::after {content: \"\";width: 100%;border-bottom: 1px solid gray;flex-grow: 1;}#sk-e463150c-78f0-46e1-98df-1e39e5d07239 div.sk-label:hover label.sk-toggleable__label {background-color: #d4ebff;}#sk-e463150c-78f0-46e1-98df-1e39e5d07239 div.sk-serial::before {content: \"\";position: absolute;border-left: 1px solid gray;box-sizing: border-box;top: 2em;bottom: 0;left: 50%;}#sk-e463150c-78f0-46e1-98df-1e39e5d07239 div.sk-serial {display: flex;flex-direction: column;align-items: center;background-color: white;padding-right: 0.2em;padding-left: 0.2em;}#sk-e463150c-78f0-46e1-98df-1e39e5d07239 div.sk-item {z-index: 1;}#sk-e463150c-78f0-46e1-98df-1e39e5d07239 div.sk-parallel {display: flex;align-items: stretch;justify-content: center;background-color: white;}#sk-e463150c-78f0-46e1-98df-1e39e5d07239 div.sk-parallel::before {content: \"\";position: absolute;border-left: 1px solid gray;box-sizing: border-box;top: 2em;bottom: 0;left: 50%;}#sk-e463150c-78f0-46e1-98df-1e39e5d07239 div.sk-parallel-item {display: flex;flex-direction: column;position: relative;background-color: white;}#sk-e463150c-78f0-46e1-98df-1e39e5d07239 div.sk-parallel-item:first-child::after {align-self: flex-end;width: 50%;}#sk-e463150c-78f0-46e1-98df-1e39e5d07239 div.sk-parallel-item:last-child::after {align-self: flex-start;width: 50%;}#sk-e463150c-78f0-46e1-98df-1e39e5d07239 div.sk-parallel-item:only-child::after {width: 0;}#sk-e463150c-78f0-46e1-98df-1e39e5d07239 div.sk-dashed-wrapped {border: 1px dashed gray;margin: 0 0.4em 0.5em 0.4em;box-sizing: border-box;padding-bottom: 0.4em;background-color: white;position: relative;}#sk-e463150c-78f0-46e1-98df-1e39e5d07239 div.sk-label label {font-family: monospace;font-weight: bold;background-color: white;display: inline-block;line-height: 1.2em;}#sk-e463150c-78f0-46e1-98df-1e39e5d07239 div.sk-label-container {position: relative;z-index: 2;text-align: center;}#sk-e463150c-78f0-46e1-98df-1e39e5d07239 div.sk-container {/* jupyter's `normalize.less` sets `[hidden] { display: none; }` but bootstrap.min.css set `[hidden] { display: none !important; }` so we also need the `!important` here to be able to override the default hidden behavior on the sphinx rendered scikit-learn.org. See: https://github.com/scikit-learn/scikit-learn/issues/21755 */display: inline-block !important;position: relative;}#sk-e463150c-78f0-46e1-98df-1e39e5d07239 div.sk-text-repr-fallback {display: none;}</style><div id=\"sk-e463150c-78f0-46e1-98df-1e39e5d07239\" class=\"sk-top-container\"><div class=\"sk-text-repr-fallback\"><pre>Pipeline(steps=[(&#x27;preprocessor&#x27;,\n",
       "                 ColumnTransformer(transformers=[(&#x27;num&#x27;,\n",
       "                                                  Pipeline(steps=[(&#x27;scale&#x27;,\n",
       "                                                                   StandardScaler())]),\n",
       "                                                  [&#x27;satisfaction_level&#x27;,\n",
       "                                                   &#x27;average_montly_hours&#x27;,\n",
       "                                                   &#x27;time_spend_company&#x27;]),\n",
       "                                                 (&#x27;cat&#x27;,\n",
       "                                                  Pipeline(steps=[(&#x27;ohe_salary&#x27;,\n",
       "                                                                   OneHotEncoder())]),\n",
       "                                                  [&#x27;salary&#x27;])])),\n",
       "                (&#x27;classifier&#x27;, LogisticRegression())])</pre><b>Please rerun this cell to show the HTML repr or trust the notebook.</b></div><div class=\"sk-container\" hidden><div class=\"sk-item sk-dashed-wrapped\"><div class=\"sk-label-container\"><div class=\"sk-label sk-toggleable\"><input class=\"sk-toggleable__control sk-hidden--visually\" id=\"56d18570-a077-45a6-a595-f2e7e7af5315\" type=\"checkbox\" ><label for=\"56d18570-a077-45a6-a595-f2e7e7af5315\" class=\"sk-toggleable__label sk-toggleable__label-arrow\">Pipeline</label><div class=\"sk-toggleable__content\"><pre>Pipeline(steps=[(&#x27;preprocessor&#x27;,\n",
       "                 ColumnTransformer(transformers=[(&#x27;num&#x27;,\n",
       "                                                  Pipeline(steps=[(&#x27;scale&#x27;,\n",
       "                                                                   StandardScaler())]),\n",
       "                                                  [&#x27;satisfaction_level&#x27;,\n",
       "                                                   &#x27;average_montly_hours&#x27;,\n",
       "                                                   &#x27;time_spend_company&#x27;]),\n",
       "                                                 (&#x27;cat&#x27;,\n",
       "                                                  Pipeline(steps=[(&#x27;ohe_salary&#x27;,\n",
       "                                                                   OneHotEncoder())]),\n",
       "                                                  [&#x27;salary&#x27;])])),\n",
       "                (&#x27;classifier&#x27;, LogisticRegression())])</pre></div></div></div><div class=\"sk-serial\"><div class=\"sk-item sk-dashed-wrapped\"><div class=\"sk-label-container\"><div class=\"sk-label sk-toggleable\"><input class=\"sk-toggleable__control sk-hidden--visually\" id=\"d4d23c0e-610b-4dc1-a7d6-3c5f1671d3e8\" type=\"checkbox\" ><label for=\"d4d23c0e-610b-4dc1-a7d6-3c5f1671d3e8\" class=\"sk-toggleable__label sk-toggleable__label-arrow\">preprocessor: ColumnTransformer</label><div class=\"sk-toggleable__content\"><pre>ColumnTransformer(transformers=[(&#x27;num&#x27;,\n",
       "                                 Pipeline(steps=[(&#x27;scale&#x27;, StandardScaler())]),\n",
       "                                 [&#x27;satisfaction_level&#x27;, &#x27;average_montly_hours&#x27;,\n",
       "                                  &#x27;time_spend_company&#x27;]),\n",
       "                                (&#x27;cat&#x27;,\n",
       "                                 Pipeline(steps=[(&#x27;ohe_salary&#x27;,\n",
       "                                                  OneHotEncoder())]),\n",
       "                                 [&#x27;salary&#x27;])])</pre></div></div></div><div class=\"sk-parallel\"><div class=\"sk-parallel-item\"><div class=\"sk-item\"><div class=\"sk-label-container\"><div class=\"sk-label sk-toggleable\"><input class=\"sk-toggleable__control sk-hidden--visually\" id=\"6d2080e6-30de-45bc-89d7-4946203308f6\" type=\"checkbox\" ><label for=\"6d2080e6-30de-45bc-89d7-4946203308f6\" class=\"sk-toggleable__label sk-toggleable__label-arrow\">num</label><div class=\"sk-toggleable__content\"><pre>[&#x27;satisfaction_level&#x27;, &#x27;average_montly_hours&#x27;, &#x27;time_spend_company&#x27;]</pre></div></div></div><div class=\"sk-serial\"><div class=\"sk-item\"><div class=\"sk-serial\"><div class=\"sk-item\"><div class=\"sk-estimator sk-toggleable\"><input class=\"sk-toggleable__control sk-hidden--visually\" id=\"e0a4513b-12cf-4e88-ada1-225e5eed9be4\" type=\"checkbox\" ><label for=\"e0a4513b-12cf-4e88-ada1-225e5eed9be4\" class=\"sk-toggleable__label sk-toggleable__label-arrow\">StandardScaler</label><div class=\"sk-toggleable__content\"><pre>StandardScaler()</pre></div></div></div></div></div></div></div></div><div class=\"sk-parallel-item\"><div class=\"sk-item\"><div class=\"sk-label-container\"><div class=\"sk-label sk-toggleable\"><input class=\"sk-toggleable__control sk-hidden--visually\" id=\"8b81966b-53ac-450f-b118-49c84ea00875\" type=\"checkbox\" ><label for=\"8b81966b-53ac-450f-b118-49c84ea00875\" class=\"sk-toggleable__label sk-toggleable__label-arrow\">cat</label><div class=\"sk-toggleable__content\"><pre>[&#x27;salary&#x27;]</pre></div></div></div><div class=\"sk-serial\"><div class=\"sk-item\"><div class=\"sk-serial\"><div class=\"sk-item\"><div class=\"sk-estimator sk-toggleable\"><input class=\"sk-toggleable__control sk-hidden--visually\" id=\"c67b5dc0-2c3b-4721-b3f0-f8a1a884bd1a\" type=\"checkbox\" ><label for=\"c67b5dc0-2c3b-4721-b3f0-f8a1a884bd1a\" class=\"sk-toggleable__label sk-toggleable__label-arrow\">OneHotEncoder</label><div class=\"sk-toggleable__content\"><pre>OneHotEncoder()</pre></div></div></div></div></div></div></div></div></div></div><div class=\"sk-item\"><div class=\"sk-estimator sk-toggleable\"><input class=\"sk-toggleable__control sk-hidden--visually\" id=\"a5410660-0562-49f9-b323-d20c659b4f57\" type=\"checkbox\" ><label for=\"a5410660-0562-49f9-b323-d20c659b4f57\" class=\"sk-toggleable__label sk-toggleable__label-arrow\">LogisticRegression</label><div class=\"sk-toggleable__content\"><pre>LogisticRegression()</pre></div></div></div></div></div></div></div>"
      ],
      "text/plain": [
       "Pipeline(steps=[('preprocessor',\n",
       "                 ColumnTransformer(transformers=[('num',\n",
       "                                                  Pipeline(steps=[('scale',\n",
       "                                                                   StandardScaler())]),\n",
       "                                                  ['satisfaction_level',\n",
       "                                                   'average_montly_hours',\n",
       "                                                   'time_spend_company']),\n",
       "                                                 ('cat',\n",
       "                                                  Pipeline(steps=[('ohe_salary',\n",
       "                                                                   OneHotEncoder())]),\n",
       "                                                  ['salary'])])),\n",
       "                ('classifier', LogisticRegression())])"
      ]
     },
     "execution_count": 65,
     "metadata": {},
     "output_type": "execute_result"
    }
   ],
   "source": [
    "my_pipeline"
   ]
  },
  {
   "cell_type": "code",
   "execution_count": 69,
   "id": "91698a13",
   "metadata": {},
   "outputs": [],
   "source": [
    "#predicting the y_test\n",
    "y_predict = my_pipeline.predict(X_test)"
   ]
  },
  {
   "cell_type": "code",
   "execution_count": 70,
   "id": "8d50dc1c",
   "metadata": {},
   "outputs": [
    {
     "data": {
      "text/plain": [
       "array([1, 0, 0, ..., 0, 0, 0], dtype=int64)"
      ]
     },
     "execution_count": 70,
     "metadata": {},
     "output_type": "execute_result"
    }
   ],
   "source": [
    "#displaying the predicted values\n",
    "y_predict"
   ]
  },
  {
   "cell_type": "code",
   "execution_count": null,
   "id": "ab009422",
   "metadata": {},
   "outputs": [],
   "source": []
  },
  {
   "cell_type": "code",
   "execution_count": null,
   "id": "c0b97fdc",
   "metadata": {},
   "outputs": [],
   "source": []
  },
  {
   "cell_type": "code",
   "execution_count": null,
   "id": "e49eea59",
   "metadata": {},
   "outputs": [],
   "source": []
  }
 ],
 "metadata": {
  "kernelspec": {
   "display_name": "Python 3 (ipykernel)",
   "language": "python",
   "name": "python3"
  },
  "language_info": {
   "codemirror_mode": {
    "name": "ipython",
    "version": 3
   },
   "file_extension": ".py",
   "mimetype": "text/x-python",
   "name": "python",
   "nbconvert_exporter": "python",
   "pygments_lexer": "ipython3",
   "version": "3.9.12"
  }
 },
 "nbformat": 4,
 "nbformat_minor": 5
}
